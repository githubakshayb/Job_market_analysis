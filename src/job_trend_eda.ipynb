{
 "cells": [
  {
   "cell_type": "code",
   "execution_count": 1,
   "id": "a2828c78-a142-48b9-8c2d-77ffb579a64f",
   "metadata": {},
   "outputs": [],
   "source": [
    "# Akshay B\n",
    "# 13-Aug-2025\n",
    "# The code is used for exploratory data analysis for the job trend "
   ]
  },
  {
   "cell_type": "code",
   "execution_count": 2,
   "id": "21487bd2-61c8-4085-b569-1d777cfa49f7",
   "metadata": {},
   "outputs": [],
   "source": [
    "import pandas as pd\n",
    "import numpy as np\n",
    "import matplotlib.pyplot as plt\n",
    "import seaborn as sns"
   ]
  },
  {
   "cell_type": "code",
   "execution_count": 3,
   "id": "1f73f254-f712-4c1c-a16f-5f803bfb1644",
   "metadata": {},
   "outputs": [],
   "source": [
    "jobs_raw = pd.read_csv('/home/rudra/My_Repo/Job_marketing_intelligence/postings.csv') # rea"
   ]
  },
  {
   "cell_type": "code",
   "execution_count": 4,
   "id": "15d7b7a2-657c-4bc7-9dc2-5e46ecc96f15",
   "metadata": {},
   "outputs": [
    {
     "data": {
      "text/html": [
       "<div>\n",
       "<style scoped>\n",
       "    .dataframe tbody tr th:only-of-type {\n",
       "        vertical-align: middle;\n",
       "    }\n",
       "\n",
       "    .dataframe tbody tr th {\n",
       "        vertical-align: top;\n",
       "    }\n",
       "\n",
       "    .dataframe thead th {\n",
       "        text-align: right;\n",
       "    }\n",
       "</style>\n",
       "<table border=\"1\" class=\"dataframe\">\n",
       "  <thead>\n",
       "    <tr style=\"text-align: right;\">\n",
       "      <th></th>\n",
       "      <th>job_id</th>\n",
       "      <th>company_name</th>\n",
       "      <th>title</th>\n",
       "      <th>description</th>\n",
       "      <th>max_salary</th>\n",
       "      <th>pay_period</th>\n",
       "      <th>location</th>\n",
       "      <th>company_id</th>\n",
       "      <th>views</th>\n",
       "      <th>med_salary</th>\n",
       "      <th>...</th>\n",
       "      <th>skills_desc</th>\n",
       "      <th>listed_time</th>\n",
       "      <th>posting_domain</th>\n",
       "      <th>sponsored</th>\n",
       "      <th>work_type</th>\n",
       "      <th>currency</th>\n",
       "      <th>compensation_type</th>\n",
       "      <th>normalized_salary</th>\n",
       "      <th>zip_code</th>\n",
       "      <th>fips</th>\n",
       "    </tr>\n",
       "  </thead>\n",
       "  <tbody>\n",
       "    <tr>\n",
       "      <th>123844</th>\n",
       "      <td>3906267117</td>\n",
       "      <td>Lozano Smith</td>\n",
       "      <td>Title IX/Investigations Attorney</td>\n",
       "      <td>Our Walnut Creek office is currently seeking a...</td>\n",
       "      <td>195000.0</td>\n",
       "      <td>YEARLY</td>\n",
       "      <td>Walnut Creek, CA</td>\n",
       "      <td>56120.0</td>\n",
       "      <td>1.0</td>\n",
       "      <td>NaN</td>\n",
       "      <td>...</td>\n",
       "      <td>NaN</td>\n",
       "      <td>1.713571e+12</td>\n",
       "      <td>NaN</td>\n",
       "      <td>0</td>\n",
       "      <td>FULL_TIME</td>\n",
       "      <td>USD</td>\n",
       "      <td>BASE_SALARY</td>\n",
       "      <td>157500.0</td>\n",
       "      <td>94595.0</td>\n",
       "      <td>6013.0</td>\n",
       "    </tr>\n",
       "    <tr>\n",
       "      <th>123845</th>\n",
       "      <td>3906267126</td>\n",
       "      <td>Pinterest</td>\n",
       "      <td>Staff Software Engineer, ML Serving Platform</td>\n",
       "      <td>About Pinterest:\\n\\nMillions of people across ...</td>\n",
       "      <td>NaN</td>\n",
       "      <td>NaN</td>\n",
       "      <td>United States</td>\n",
       "      <td>1124131.0</td>\n",
       "      <td>3.0</td>\n",
       "      <td>NaN</td>\n",
       "      <td>...</td>\n",
       "      <td>NaN</td>\n",
       "      <td>1.713572e+12</td>\n",
       "      <td>www.pinterestcareers.com</td>\n",
       "      <td>0</td>\n",
       "      <td>FULL_TIME</td>\n",
       "      <td>NaN</td>\n",
       "      <td>NaN</td>\n",
       "      <td>NaN</td>\n",
       "      <td>NaN</td>\n",
       "      <td>NaN</td>\n",
       "    </tr>\n",
       "    <tr>\n",
       "      <th>123846</th>\n",
       "      <td>3906267131</td>\n",
       "      <td>EPS Learning</td>\n",
       "      <td>Account Executive, Oregon/Washington</td>\n",
       "      <td>Company Overview\\n\\nEPS Learning is a leading ...</td>\n",
       "      <td>NaN</td>\n",
       "      <td>NaN</td>\n",
       "      <td>Spokane, WA</td>\n",
       "      <td>90552133.0</td>\n",
       "      <td>3.0</td>\n",
       "      <td>NaN</td>\n",
       "      <td>...</td>\n",
       "      <td>NaN</td>\n",
       "      <td>1.713572e+12</td>\n",
       "      <td>epsoperations.bamboohr.com</td>\n",
       "      <td>0</td>\n",
       "      <td>FULL_TIME</td>\n",
       "      <td>NaN</td>\n",
       "      <td>NaN</td>\n",
       "      <td>NaN</td>\n",
       "      <td>99201.0</td>\n",
       "      <td>53063.0</td>\n",
       "    </tr>\n",
       "    <tr>\n",
       "      <th>123847</th>\n",
       "      <td>3906267195</td>\n",
       "      <td>Trelleborg Applied Technologies</td>\n",
       "      <td>Business Development Manager</td>\n",
       "      <td>The Business Development Manager is a 'hunter'...</td>\n",
       "      <td>NaN</td>\n",
       "      <td>NaN</td>\n",
       "      <td>Texas, United States</td>\n",
       "      <td>2793699.0</td>\n",
       "      <td>4.0</td>\n",
       "      <td>NaN</td>\n",
       "      <td>...</td>\n",
       "      <td>NaN</td>\n",
       "      <td>1.713573e+12</td>\n",
       "      <td>NaN</td>\n",
       "      <td>0</td>\n",
       "      <td>FULL_TIME</td>\n",
       "      <td>NaN</td>\n",
       "      <td>NaN</td>\n",
       "      <td>NaN</td>\n",
       "      <td>NaN</td>\n",
       "      <td>NaN</td>\n",
       "    </tr>\n",
       "    <tr>\n",
       "      <th>123848</th>\n",
       "      <td>3906267224</td>\n",
       "      <td>Solugenix</td>\n",
       "      <td>Marketing Social Media Specialist</td>\n",
       "      <td>Marketing Social Media Specialist - $70k – $75...</td>\n",
       "      <td>75000.0</td>\n",
       "      <td>YEARLY</td>\n",
       "      <td>San Juan Capistrano, CA</td>\n",
       "      <td>43325.0</td>\n",
       "      <td>2.0</td>\n",
       "      <td>NaN</td>\n",
       "      <td>...</td>\n",
       "      <td>NaN</td>\n",
       "      <td>1.713573e+12</td>\n",
       "      <td>NaN</td>\n",
       "      <td>0</td>\n",
       "      <td>FULL_TIME</td>\n",
       "      <td>USD</td>\n",
       "      <td>BASE_SALARY</td>\n",
       "      <td>72500.0</td>\n",
       "      <td>92675.0</td>\n",
       "      <td>6059.0</td>\n",
       "    </tr>\n",
       "  </tbody>\n",
       "</table>\n",
       "<p>5 rows × 31 columns</p>\n",
       "</div>"
      ],
      "text/plain": [
       "            job_id                     company_name  \\\n",
       "123844  3906267117                     Lozano Smith   \n",
       "123845  3906267126                        Pinterest   \n",
       "123846  3906267131                     EPS Learning   \n",
       "123847  3906267195  Trelleborg Applied Technologies   \n",
       "123848  3906267224                        Solugenix   \n",
       "\n",
       "                                               title  \\\n",
       "123844              Title IX/Investigations Attorney   \n",
       "123845  Staff Software Engineer, ML Serving Platform   \n",
       "123846          Account Executive, Oregon/Washington   \n",
       "123847                  Business Development Manager   \n",
       "123848             Marketing Social Media Specialist   \n",
       "\n",
       "                                              description  max_salary  \\\n",
       "123844  Our Walnut Creek office is currently seeking a...    195000.0   \n",
       "123845  About Pinterest:\\n\\nMillions of people across ...         NaN   \n",
       "123846  Company Overview\\n\\nEPS Learning is a leading ...         NaN   \n",
       "123847  The Business Development Manager is a 'hunter'...         NaN   \n",
       "123848  Marketing Social Media Specialist - $70k – $75...     75000.0   \n",
       "\n",
       "       pay_period                 location  company_id  views  med_salary  \\\n",
       "123844     YEARLY         Walnut Creek, CA     56120.0    1.0         NaN   \n",
       "123845        NaN            United States   1124131.0    3.0         NaN   \n",
       "123846        NaN              Spokane, WA  90552133.0    3.0         NaN   \n",
       "123847        NaN     Texas, United States   2793699.0    4.0         NaN   \n",
       "123848     YEARLY  San Juan Capistrano, CA     43325.0    2.0         NaN   \n",
       "\n",
       "        ...  skills_desc   listed_time              posting_domain  sponsored  \\\n",
       "123844  ...          NaN  1.713571e+12                         NaN          0   \n",
       "123845  ...          NaN  1.713572e+12    www.pinterestcareers.com          0   \n",
       "123846  ...          NaN  1.713572e+12  epsoperations.bamboohr.com          0   \n",
       "123847  ...          NaN  1.713573e+12                         NaN          0   \n",
       "123848  ...          NaN  1.713573e+12                         NaN          0   \n",
       "\n",
       "        work_type currency compensation_type normalized_salary  zip_code  \\\n",
       "123844  FULL_TIME      USD       BASE_SALARY          157500.0   94595.0   \n",
       "123845  FULL_TIME      NaN               NaN               NaN       NaN   \n",
       "123846  FULL_TIME      NaN               NaN               NaN   99201.0   \n",
       "123847  FULL_TIME      NaN               NaN               NaN       NaN   \n",
       "123848  FULL_TIME      USD       BASE_SALARY           72500.0   92675.0   \n",
       "\n",
       "           fips  \n",
       "123844   6013.0  \n",
       "123845      NaN  \n",
       "123846  53063.0  \n",
       "123847      NaN  \n",
       "123848   6059.0  \n",
       "\n",
       "[5 rows x 31 columns]"
      ]
     },
     "execution_count": 4,
     "metadata": {},
     "output_type": "execute_result"
    }
   ],
   "source": [
    "jobs_raw.tail()"
   ]
  },
  {
   "cell_type": "code",
   "execution_count": 5,
   "id": "dc7a3dd1-3b79-4e1c-83a6-f2e6b5f7b885",
   "metadata": {},
   "outputs": [
    {
     "data": {
      "text/plain": [
       "(123849, 31)"
      ]
     },
     "execution_count": 5,
     "metadata": {},
     "output_type": "execute_result"
    }
   ],
   "source": [
    "jobs_raw.shape"
   ]
  },
  {
   "cell_type": "code",
   "execution_count": 6,
   "id": "def654ce-9357-49e3-a3be-9db2f59e6c9f",
   "metadata": {},
   "outputs": [
    {
     "data": {
      "text/plain": [
       "Index(['job_id', 'company_name', 'title', 'description', 'max_salary',\n",
       "       'pay_period', 'location', 'company_id', 'views', 'med_salary',\n",
       "       'min_salary', 'formatted_work_type', 'applies', 'original_listed_time',\n",
       "       'remote_allowed', 'job_posting_url', 'application_url',\n",
       "       'application_type', 'expiry', 'closed_time',\n",
       "       'formatted_experience_level', 'skills_desc', 'listed_time',\n",
       "       'posting_domain', 'sponsored', 'work_type', 'currency',\n",
       "       'compensation_type', 'normalized_salary', 'zip_code', 'fips'],\n",
       "      dtype='object')"
      ]
     },
     "execution_count": 6,
     "metadata": {},
     "output_type": "execute_result"
    }
   ],
   "source": [
    "jobs_raw.columns"
   ]
  },
  {
   "cell_type": "code",
   "execution_count": 7,
   "id": "5d98662b-4e34-4af5-8240-26e0670ab2bc",
   "metadata": {},
   "outputs": [
    {
     "data": {
      "text/plain": [
       "job_id                             0\n",
       "company_name                    1719\n",
       "title                              0\n",
       "description                        7\n",
       "max_salary                     94056\n",
       "pay_period                     87776\n",
       "location                           0\n",
       "company_id                      1717\n",
       "views                           1689\n",
       "med_salary                    117569\n",
       "min_salary                     94056\n",
       "formatted_work_type                0\n",
       "applies                       100529\n",
       "original_listed_time               0\n",
       "remote_allowed                108603\n",
       "job_posting_url                    0\n",
       "application_url                36665\n",
       "application_type                   0\n",
       "expiry                             0\n",
       "closed_time                   122776\n",
       "formatted_experience_level     29409\n",
       "skills_desc                   121410\n",
       "listed_time                        0\n",
       "posting_domain                 39968\n",
       "sponsored                          0\n",
       "work_type                          0\n",
       "currency                       87776\n",
       "compensation_type              87776\n",
       "normalized_salary              87776\n",
       "zip_code                       20872\n",
       "fips                           27415\n",
       "dtype: int64"
      ]
     },
     "execution_count": 7,
     "metadata": {},
     "output_type": "execute_result"
    }
   ],
   "source": [
    "jobs_raw.isnull().sum()  \n",
    "\n",
    "# title\n",
    "# location\n",
    "# formatted_work_type\n",
    "# formatted_experience_level\n",
    "# remote_allowed\n",
    "# listed_time\n"
   ]
  },
  {
   "cell_type": "code",
   "execution_count": 8,
   "id": "5a17404e-ed82-4492-8048-73752b7403eb",
   "metadata": {},
   "outputs": [],
   "source": [
    "jobs_raw['formatted_experience_level'] = jobs_raw['formatted_experience_level'].fillna(\"Unknown\")"
   ]
  },
  {
   "cell_type": "code",
   "execution_count": 9,
   "id": "07cae0f1-7e00-41a8-b0c5-5e647376d063",
   "metadata": {},
   "outputs": [],
   "source": [
    "jobs_raw['remote_allowed'] = jobs_raw['remote_allowed'].fillna(\"Unknown\")"
   ]
  },
  {
   "cell_type": "code",
   "execution_count": 10,
   "id": "9a8fca3a-22f7-43b1-a97f-fc01acc3bcda",
   "metadata": {},
   "outputs": [],
   "source": [
    "jobs_selected = jobs_raw[['title' ,'location','formatted_experience_level','remote_allowed','listed_time']]"
   ]
  },
  {
   "cell_type": "code",
   "execution_count": 11,
   "id": "f38d273a-9f4f-48b7-b5ac-d114895ec734",
   "metadata": {
    "scrolled": true
   },
   "outputs": [
    {
     "data": {
      "text/plain": [
       "title                         0\n",
       "location                      0\n",
       "formatted_experience_level    0\n",
       "remote_allowed                0\n",
       "listed_time                   0\n",
       "dtype: int64"
      ]
     },
     "execution_count": 11,
     "metadata": {},
     "output_type": "execute_result"
    }
   ],
   "source": [
    "jobs_selected.isnull().sum()"
   ]
  },
  {
   "cell_type": "code",
   "execution_count": 12,
   "id": "5d3861fc-23dd-41a1-86df-04c37bc97f19",
   "metadata": {},
   "outputs": [
    {
     "data": {
      "text/plain": [
       "2373"
      ]
     },
     "execution_count": 12,
     "metadata": {},
     "output_type": "execute_result"
    }
   ],
   "source": [
    "jobs_selected.duplicated().sum()"
   ]
  },
  {
   "cell_type": "code",
   "execution_count": 14,
   "id": "cd72d936-9f0e-4b05-8059-fa952ae5eb88",
   "metadata": {},
   "outputs": [],
   "source": [
    "jobs_selected = jobs_selected.drop_duplicates()"
   ]
  },
  {
   "cell_type": "code",
   "execution_count": 15,
   "id": "16c86ae5-de01-4dee-b214-7ed401af5086",
   "metadata": {},
   "outputs": [
    {
     "data": {
      "text/plain": [
       "0"
      ]
     },
     "execution_count": 15,
     "metadata": {},
     "output_type": "execute_result"
    }
   ],
   "source": [
    "jobs_selected.duplicated().sum()"
   ]
  },
  {
   "cell_type": "code",
   "execution_count": 16,
   "id": "917af31c-9238-4445-975c-e55e9f13a2c1",
   "metadata": {},
   "outputs": [],
   "source": [
    "bar_graph = jobs_selected['title'].value_counts().head(15)"
   ]
  },
  {
   "cell_type": "code",
   "execution_count": 17,
   "id": "abde3aab-6c30-44db-ab4c-e3983bba30f9",
   "metadata": {},
   "outputs": [
    {
     "data": {
      "image/png": "[encoded data removed]",
      "text/plain": [
       "<Figure size 1000x600 with 1 Axes>"
      ]
     },
     "metadata": {},
     "output_type": "display_data"
    }
   ],
   "source": [
    "bar_graph.plot.bar(figsize=(10,6))\n",
    "plt.xlabel(\"Job roles\")\n",
    "plt.ylabel(\"Job count\")\n",
    "plt.show()"
   ]
  },
  {
   "cell_type": "code",
   "execution_count": null,
   "id": "e46f83fb-210a-4b4c-83e8-5b33f1cfd8ff",
   "metadata": {},
   "outputs": [],
   "source": []
  }
 ],
 "metadata": {
  "kernelspec": {
   "display_name": "Python 3 (ipykernel)",
   "language": "python",
   "name": "python3"
  },
  "language_info": {
   "codemirror_mode": {
    "name": "ipython",
    "version": 3
   },
   "file_extension": ".py",
   "mimetype": "text/x-python",
   "name": "python",
   "nbconvert_exporter": "python",
   "pygments_lexer": "ipython3",
   "version": "3.12.7"
  }
 },
 "nbformat": 4,
 "nbformat_minor": 5
}
